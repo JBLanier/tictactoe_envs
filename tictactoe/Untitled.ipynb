{
 "cells": [
  {
   "cell_type": "code",
   "execution_count": 1,
   "metadata": {},
   "outputs": [],
   "source": [
    "from tictactoe_3p_env import TicTacToe3PlayerEnv, print_board, string_to_action, action_to_string\n",
    "import random"
   ]
  },
  {
   "cell_type": "code",
   "execution_count": 2,
   "metadata": {},
   "outputs": [],
   "source": [
    "e = TicTacToe3PlayerEnv()"
   ]
  },
  {
   "cell_type": "code",
   "execution_count": 3,
   "metadata": {},
   "outputs": [],
   "source": [
    "s, current_players = e.new_state()"
   ]
  },
  {
   "cell_type": "code",
   "execution_count": 4,
   "metadata": {},
   "outputs": [
    {
     "name": "stdout",
     "output_type": "stream",
     "text": [
      "\n",
      "   |   |   |   |   \n",
      "-------------------\n",
      "   |   |   |   |   \n",
      "-------------------\n",
      "   |   |   |   |   \n",
      "\n"
     ]
    }
   ],
   "source": [
    "print_board(s)"
   ]
  },
  {
   "cell_type": "code",
   "execution_count": 5,
   "metadata": {},
   "outputs": [
    {
     "data": {
      "text/plain": [
       "['(0, 0)',\n",
       " '(0, 1)',\n",
       " '(0, 2)',\n",
       " '(0, 3)',\n",
       " '(0, 4)',\n",
       " '(1, 0)',\n",
       " '(1, 1)',\n",
       " '(1, 2)',\n",
       " '(1, 3)',\n",
       " '(1, 4)',\n",
       " '(2, 0)',\n",
       " '(2, 1)',\n",
       " '(2, 2)',\n",
       " '(2, 3)',\n",
       " '(2, 4)']"
      ]
     },
     "execution_count": 5,
     "metadata": {},
     "output_type": "execute_result"
    }
   ],
   "source": [
    "e.valid_actions(s, current_players[0])"
   ]
  },
  {
   "cell_type": "code",
   "execution_count": 6,
   "metadata": {},
   "outputs": [
    {
     "name": "stdout",
     "output_type": "stream",
     "text": [
      "\n",
      "   |   |   |   |   \n",
      "-------------------\n",
      "   |   |   |   |   \n",
      "-------------------\n",
      "   |   |   |   |   \n",
      "\n",
      "\n",
      "   |   |   |   | X \n",
      "-------------------\n",
      "   |   |   |   |   \n",
      "-------------------\n",
      "   |   |   |   |   \n",
      "\n",
      "\n",
      "   |   |   |   | X \n",
      "-------------------\n",
      "   |   |   |   |   \n",
      "-------------------\n",
      " O |   |   |   |   \n",
      "\n",
      "\n",
      "   |   |   |   | X \n",
      "-------------------\n",
      "   |   |   |   |   \n",
      "-------------------\n",
      " O |   |   | Y |   \n",
      "\n",
      "\n",
      "   |   |   |   | X \n",
      "-------------------\n",
      "   |   | X |   |   \n",
      "-------------------\n",
      " O |   |   | Y |   \n",
      "\n",
      "\n",
      "   |   | O |   | X \n",
      "-------------------\n",
      "   |   | X |   |   \n",
      "-------------------\n",
      " O |   |   | Y |   \n",
      "\n",
      "\n",
      "   | Y | O |   | X \n",
      "-------------------\n",
      "   |   | X |   |   \n",
      "-------------------\n",
      " O |   |   | Y |   \n",
      "\n",
      "\n",
      "   | Y | O |   | X \n",
      "-------------------\n",
      "   |   | X |   | X \n",
      "-------------------\n",
      " O |   |   | Y |   \n",
      "\n",
      "Winners: [1]\n",
      "\n",
      "Winner: 1\n",
      "   | Y | O |   | X \n",
      "-------------------\n",
      "   | O | X |   | X \n",
      "-------------------\n",
      " O |   |   | Y |   \n",
      "\n"
     ]
    }
   ],
   "source": [
    "def rl_agent_choose_action(valid_actions, observation):\n",
    "    # dummy function, chooses a random action\n",
    "    return random.choice(valid_actions)\n",
    "\n",
    "# Instantiate a blockus environment, you only need to do this once.\n",
    "env = TicTacToe3PlayerEnv()\n",
    "\n",
    "# start a new game, we get back a state, and a list of currently acting players.\n",
    "# In blockus, this current_players list always contains only one player\n",
    "# since only one player ever is allowed to go at a time.\n",
    "current_state, current_players = env.new_state()\n",
    "\n",
    "# Main game loop\n",
    "while True:\n",
    "    \n",
    "    print_board(current_state)\n",
    "    \n",
    "    # Get a list of valid actions. In this API, actions are pass around as strings.\n",
    "    # The action_to_string and string_to_action methods can be used to parse\n",
    "    #or create actions from components.\n",
    "    valid_actions = env.valid_actions(\n",
    "        state=current_state, player=current_players[0])\n",
    "\n",
    "    # States are only for the environment to use. We need to convert a state into\n",
    "    # an observation for an RL agent to look at it.\n",
    "    observation = env.state_to_observation(\n",
    "        state=current_state, player=current_players[0])\n",
    "    # Observations are always from a specific player's perspective.\n",
    "    # Each player views observations as if they are player 0 (out of 0,1,2,3)\n",
    "    # in the game.\n",
    "    # This way, you only ever have to train a agent to choose actions\n",
    "    # that make player 0 win the game.\n",
    "\n",
    "    # Our \"RL agent\" chooses and action base on the observation and valid actions\n",
    "    action = rl_agent_choose_action(valid_actions, observation)\n",
    "\n",
    "    # Here we advance the game by one step.\n",
    "    next_state, next_players, rewards, terminal, winners = env.next_state(\n",
    "        state=current_state,players=current_players,actions=[action])\n",
    "\n",
    "\n",
    "    # The BlockEnv instance, env, doesn't keep track of the game's state. That's up to you to keep track of:\n",
    "    current_state = next_state\n",
    "\n",
    "    # next_players contains the next player who's turn it is now (again, it's a list with one player's number).\n",
    "    current_players = next_players\n",
    "\n",
    "    if terminal:\n",
    "        # If the game is over, break out of the loop and print which player(s) won.\n",
    "        print(\"Winners: {}\".format(winners))\n",
    "        break\n",
    "        \n",
    "print_board(current_state)"
   ]
  },
  {
   "cell_type": "code",
   "execution_count": 7,
   "metadata": {},
   "outputs": [
    {
     "name": "stdout",
     "output_type": "stream",
     "text": [
      "\n",
      "Winner: 1\n",
      "   | Y | O |   | X \n",
      "-------------------\n",
      "   | O | X |   | X \n",
      "-------------------\n",
      " O |   |   | Y |   \n",
      "\n"
     ]
    }
   ],
   "source": [
    "print_board(current_state)"
   ]
  },
  {
   "cell_type": "code",
   "execution_count": 8,
   "metadata": {},
   "outputs": [
    {
     "data": {
      "text/plain": [
       "(3, (array([[-1,  2,  1, -1,  0],\n",
       "         [-1,  1,  0, -1,  0],\n",
       "         [ 1, -1, -1,  2, -1]], dtype=int8), 1))"
      ]
     },
     "execution_count": 8,
     "metadata": {},
     "output_type": "execute_result"
    }
   ],
   "source": [
    "current_state"
   ]
  },
  {
   "cell_type": "code",
   "execution_count": 9,
   "metadata": {},
   "outputs": [],
   "source": [
    "ser = e.serialize_state(current_state)"
   ]
  },
  {
   "cell_type": "code",
   "execution_count": 10,
   "metadata": {},
   "outputs": [
    {
     "data": {
      "text/plain": [
       "(3, (array([[-1,  2,  1, -1,  0],\n",
       "         [-1,  1,  0, -1,  0],\n",
       "         [ 1, -1, -1,  2, -1]], dtype=int8), 1))"
      ]
     },
     "execution_count": 10,
     "metadata": {},
     "output_type": "execute_result"
    }
   ],
   "source": [
    "s = e.deserialize_state(ser)\n",
    "s\n"
   ]
  },
  {
   "cell_type": "code",
   "execution_count": 13,
   "metadata": {},
   "outputs": [
    {
     "data": {
      "text/plain": [
       "{'board': array([[-1,  0,  2, -1,  1],\n",
       "        [-1,  2,  1, -1,  1],\n",
       "        [ 2, -1, -1,  0, -1]], dtype=int8)}"
      ]
     },
     "execution_count": 13,
     "metadata": {},
     "output_type": "execute_result"
    }
   ],
   "source": [
    "e.state_to_observation(s, 2)"
   ]
  },
  {
   "cell_type": "code",
   "execution_count": null,
   "metadata": {},
   "outputs": [],
   "source": []
  }
 ],
 "metadata": {
  "kernelspec": {
   "display_name": "Python 3",
   "language": "python",
   "name": "python3"
  },
  "language_info": {
   "codemirror_mode": {
    "name": "ipython",
    "version": 3
   },
   "file_extension": ".py",
   "mimetype": "text/x-python",
   "name": "python",
   "nbconvert_exporter": "python",
   "pygments_lexer": "ipython3",
   "version": "3.7.2"
  }
 },
 "nbformat": 4,
 "nbformat_minor": 2
}
