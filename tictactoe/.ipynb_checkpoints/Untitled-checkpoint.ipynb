{
 "cells": [
  {
   "cell_type": "code",
   "execution_count": 1,
   "metadata": {},
   "outputs": [],
   "source": [
    "from tictactoe_3p_env import TicTacToe3PlayerEnv, print_board, string_to_action, action_to_string"
   ]
  },
  {
   "cell_type": "code",
   "execution_count": 2,
   "metadata": {},
   "outputs": [],
   "source": [
    "e = TicTacToe3PlayerEnv()"
   ]
  },
  {
   "cell_type": "code",
   "execution_count": 3,
   "metadata": {},
   "outputs": [],
   "source": [
    "s, current_players = e.new_state()"
   ]
  },
  {
   "cell_type": "code",
   "execution_count": 4,
   "metadata": {},
   "outputs": [
    {
     "name": "stdout",
     "output_type": "stream",
     "text": [
      "   |   |   |   |   \n",
      "-------------------\n",
      "   |   |   |   |   \n",
      "-------------------\n",
      "   |   |   |   |   \n"
     ]
    }
   ],
   "source": [
    "print_board(s)"
   ]
  },
  {
   "cell_type": "code",
   "execution_count": 5,
   "metadata": {},
   "outputs": [
    {
     "data": {
      "text/plain": [
       "['(0, 0)',\n",
       " '(0, 1)',\n",
       " '(0, 2)',\n",
       " '(1, 0)',\n",
       " '(1, 1)',\n",
       " '(1, 2)',\n",
       " '(2, 0)',\n",
       " '(2, 1)',\n",
       " '(2, 2)',\n",
       " '(3, 0)',\n",
       " '(3, 1)',\n",
       " '(3, 2)',\n",
       " '(4, 0)',\n",
       " '(4, 1)',\n",
       " '(4, 2)']"
      ]
     },
     "execution_count": 5,
     "metadata": {},
     "output_type": "execute_result"
    }
   ],
   "source": [
    "e.valid_actions(s, current_players[0])"
   ]
  },
  {
   "cell_type": "code",
   "execution_count": null,
   "metadata": {},
   "outputs": [],
   "source": []
  }
 ],
 "metadata": {
  "kernelspec": {
   "display_name": "Python 3",
   "language": "python",
   "name": "python3"
  },
  "language_info": {
   "codemirror_mode": {
    "name": "ipython",
    "version": 3
   },
   "file_extension": ".py",
   "mimetype": "text/x-python",
   "name": "python",
   "nbconvert_exporter": "python",
   "pygments_lexer": "ipython3",
   "version": "3.7.2"
  }
 },
 "nbformat": 4,
 "nbformat_minor": 2
}
